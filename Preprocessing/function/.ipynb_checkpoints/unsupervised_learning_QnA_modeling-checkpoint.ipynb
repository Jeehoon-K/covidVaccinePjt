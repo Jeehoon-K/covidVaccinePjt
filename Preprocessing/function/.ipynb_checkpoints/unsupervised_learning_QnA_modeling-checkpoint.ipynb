{
 "cells": [
  {
   "cell_type": "code",
   "execution_count": 1,
   "metadata": {
    "executionInfo": {
     "elapsed": 2394,
     "status": "ok",
     "timestamp": 1613647182249,
     "user": {
      "displayName": "‍김지훈(학부학생/공과대학 토목·환경공학)",
      "photoUrl": "",
      "userId": "06228375687141397502"
     },
     "user_tz": -540
    },
    "id": "MOYeEPZzXLsQ"
   },
   "outputs": [],
   "source": [
    "from sklearn.cluster import KMeans\n",
    "import seaborn as sns\n",
    "import pandas as pd\n",
    "import numpy as np\n",
    "from sentence_transformers import *\n",
    "from sklearn.decomposition import PCA\n",
    "from sklearn.manifold import TSNE\n",
    "from sklearn.cluster import MiniBatchKMeans\n",
    "import matplotlib.pyplot as plt\n",
    "import re\n",
    "from nltk.stem import WordNetLemmatizer\n",
    "import nltk\n",
    "from nltk.corpus import stopwords \n",
    "from nltk.tokenize import word_tokenize \n",
    "import matplotlib.cm as cm\n",
    "import torch\n",
    "import sentence_transformers\n",
    "import umap"
   ]
  },
  {
   "cell_type": "code",
   "execution_count": 6,
   "metadata": {
    "executionInfo": {
     "elapsed": 815,
     "status": "ok",
     "timestamp": 1613647598734,
     "user": {
      "displayName": "‍김지훈(학부학생/공과대학 토목·환경공학)",
      "photoUrl": "",
      "userId": "06228375687141397502"
     },
     "user_tz": -540
    },
    "id": "8sUtARLc2gHG"
   },
   "outputs": [],
   "source": [
    "#여기서 불러온 data1,data2는 전처리 모델에서 나온거라 따로 파일로 저장 안하고 전처리 모델이랑 이으면 됨\n",
    "data1 = pd.read_csv('/content/drive/MyDrive/DA팀 /프로젝트/코로나 백신/data1_pfizer.csv')\n",
    "data2 = pd.read_csv('/content/drive/MyDrive/DA팀 /프로젝트/코로나 백신/data2_pfizer.csv')"
   ]
  },
  {
   "cell_type": "code",
   "execution_count": 7,
   "metadata": {
    "executionInfo": {
     "elapsed": 712,
     "status": "ok",
     "timestamp": 1613647599671,
     "user": {
      "displayName": "‍김지훈(학부학생/공과대학 토목·환경공학)",
      "photoUrl": "",
      "userId": "06228375687141397502"
     },
     "user_tz": -540
    },
    "id": "cRkCjjk2KBzp"
   },
   "outputs": [],
   "source": [
    "#qna 답으로 나올 text 계속 추가해 놓을 데이터셋\n",
    "pfizer_original = pd.read_csv('/content/drive/MyDrive/DA팀 /프로젝트/코로나 백신/vaccination_tweets.csv')\n",
    "#진위성 모델에 넣을 전처리 된 데이터\n",
    "testbud = data1.drop(['user_name'], axis=1)"
   ]
  },
  {
   "cell_type": "code",
   "execution_count": 8,
   "metadata": {
    "executionInfo": {
     "elapsed": 842,
     "status": "ok",
     "timestamp": 1613648458657,
     "user": {
      "displayName": "‍김지훈(학부학생/공과대학 토목·환경공학)",
      "photoUrl": "",
      "userId": "06228375687141397502"
     },
     "user_tz": -540
    },
    "id": "ItRMcGtK3t6S"
   },
   "outputs": [],
   "source": [
    "#진위성 모델 (보충예정)\n",
    "score_model = KMeans(n_clusters=2).fit(testbud)\n",
    "data1['score'] = score_model.labels_"
   ]
  },
  {
   "cell_type": "code",
   "execution_count": null,
   "metadata": {
    "colab": {
     "base_uri": "https://localhost:8080/",
     "height": 436
    },
    "executionInfo": {
     "elapsed": 534,
     "status": "ok",
     "timestamp": 1613640116902,
     "user": {
      "displayName": "‍김지훈(학부학생/공과대학 토목·환경공학)",
      "photoUrl": "",
      "userId": "06228375687141397502"
     },
     "user_tz": -540
    },
    "id": "KSzo1u-046JV",
    "outputId": "24364cce-1b2a-47ae-b52f-f1fc746f4189"
   },
   "outputs": [
    {
     "data": {
      "text/html": [
       "<div>\n",
       "<style scoped>\n",
       "    .dataframe tbody tr th:only-of-type {\n",
       "        vertical-align: middle;\n",
       "    }\n",
       "\n",
       "    .dataframe tbody tr th {\n",
       "        vertical-align: top;\n",
       "    }\n",
       "\n",
       "    .dataframe thead th {\n",
       "        text-align: right;\n",
       "    }\n",
       "</style>\n",
       "<table border=\"1\" class=\"dataframe\">\n",
       "  <thead>\n",
       "    <tr style=\"text-align: right;\">\n",
       "      <th></th>\n",
       "      <th>user_name</th>\n",
       "      <th>user_location</th>\n",
       "      <th>user_followers</th>\n",
       "      <th>user_favourites</th>\n",
       "      <th>user_verified</th>\n",
       "      <th>favorites</th>\n",
       "      <th>score</th>\n",
       "    </tr>\n",
       "  </thead>\n",
       "  <tbody>\n",
       "    <tr>\n",
       "      <th>0</th>\n",
       "      <td>Rachel Roh</td>\n",
       "      <td>0</td>\n",
       "      <td>2.952987e-05</td>\n",
       "      <td>0.003512</td>\n",
       "      <td>False</td>\n",
       "      <td>0.000000</td>\n",
       "      <td>0</td>\n",
       "    </tr>\n",
       "    <tr>\n",
       "      <th>1</th>\n",
       "      <td>Albert Fong</td>\n",
       "      <td>0</td>\n",
       "      <td>6.080965e-05</td>\n",
       "      <td>0.000193</td>\n",
       "      <td>False</td>\n",
       "      <td>0.000432</td>\n",
       "      <td>0</td>\n",
       "    </tr>\n",
       "    <tr>\n",
       "      <th>2</th>\n",
       "      <td>eli🇱🇹🇪🇺👌</td>\n",
       "      <td>0</td>\n",
       "      <td>7.291325e-07</td>\n",
       "      <td>0.000168</td>\n",
       "      <td>False</td>\n",
       "      <td>0.000000</td>\n",
       "      <td>0</td>\n",
       "    </tr>\n",
       "    <tr>\n",
       "      <th>3</th>\n",
       "      <td>Charles Adler</td>\n",
       "      <td>1</td>\n",
       "      <td>3.584780e-03</td>\n",
       "      <td>0.023633</td>\n",
       "      <td>True</td>\n",
       "      <td>0.919654</td>\n",
       "      <td>1</td>\n",
       "    </tr>\n",
       "    <tr>\n",
       "      <th>4</th>\n",
       "      <td>Citizen News Channel</td>\n",
       "      <td>0</td>\n",
       "      <td>1.108281e-05</td>\n",
       "      <td>0.001593</td>\n",
       "      <td>False</td>\n",
       "      <td>0.000000</td>\n",
       "      <td>0</td>\n",
       "    </tr>\n",
       "    <tr>\n",
       "      <th>...</th>\n",
       "      <td>...</td>\n",
       "      <td>...</td>\n",
       "      <td>...</td>\n",
       "      <td>...</td>\n",
       "      <td>...</td>\n",
       "      <td>...</td>\n",
       "      <td>...</td>\n",
       "    </tr>\n",
       "    <tr>\n",
       "      <th>5371</th>\n",
       "      <td>Marc Bailey 💙</td>\n",
       "      <td>1</td>\n",
       "      <td>5.534116e-05</td>\n",
       "      <td>0.005298</td>\n",
       "      <td>False</td>\n",
       "      <td>0.001296</td>\n",
       "      <td>1</td>\n",
       "    </tr>\n",
       "    <tr>\n",
       "      <th>5372</th>\n",
       "      <td>SpaceNews Tech TsunamiHelp</td>\n",
       "      <td>0</td>\n",
       "      <td>3.113396e-05</td>\n",
       "      <td>0.001530</td>\n",
       "      <td>False</td>\n",
       "      <td>0.000000</td>\n",
       "      <td>0</td>\n",
       "    </tr>\n",
       "    <tr>\n",
       "      <th>5373</th>\n",
       "      <td>Lib Dem Lords</td>\n",
       "      <td>0</td>\n",
       "      <td>1.017796e-03</td>\n",
       "      <td>0.001815</td>\n",
       "      <td>True</td>\n",
       "      <td>0.001296</td>\n",
       "      <td>0</td>\n",
       "    </tr>\n",
       "    <tr>\n",
       "      <th>5374</th>\n",
       "      <td>Scimos.org</td>\n",
       "      <td>0</td>\n",
       "      <td>4.083142e-06</td>\n",
       "      <td>0.000031</td>\n",
       "      <td>False</td>\n",
       "      <td>0.001296</td>\n",
       "      <td>0</td>\n",
       "    </tr>\n",
       "    <tr>\n",
       "      <th>5375</th>\n",
       "      <td>Stephen</td>\n",
       "      <td>0</td>\n",
       "      <td>3.682119e-05</td>\n",
       "      <td>0.006616</td>\n",
       "      <td>False</td>\n",
       "      <td>0.004320</td>\n",
       "      <td>0</td>\n",
       "    </tr>\n",
       "  </tbody>\n",
       "</table>\n",
       "<p>5376 rows × 7 columns</p>\n",
       "</div>"
      ],
      "text/plain": [
       "                       user_name  user_location  ...  favorites  score\n",
       "0                     Rachel Roh              0  ...   0.000000      0\n",
       "1                    Albert Fong              0  ...   0.000432      0\n",
       "2                       eli🇱🇹🇪🇺👌              0  ...   0.000000      0\n",
       "3                  Charles Adler              1  ...   0.919654      1\n",
       "4           Citizen News Channel              0  ...   0.000000      0\n",
       "...                          ...            ...  ...        ...    ...\n",
       "5371               Marc Bailey 💙              1  ...   0.001296      1\n",
       "5372  SpaceNews Tech TsunamiHelp              0  ...   0.000000      0\n",
       "5373               Lib Dem Lords              0  ...   0.001296      0\n",
       "5374                  Scimos.org              0  ...   0.001296      0\n",
       "5375                     Stephen              0  ...   0.004320      0\n",
       "\n",
       "[5376 rows x 7 columns]"
      ]
     },
     "execution_count": 12,
     "metadata": {
      "tags": []
     },
     "output_type": "execute_result"
    }
   ],
   "source": [
    "data1"
   ]
  },
  {
   "cell_type": "code",
   "execution_count": null,
   "metadata": {
    "colab": {
     "base_uri": "https://localhost:8080/"
    },
    "executionInfo": {
     "elapsed": 669,
     "status": "ok",
     "timestamp": 1613581844855,
     "user": {
      "displayName": "‍김지훈(학부학생/공과대학 토목·환경공학)",
      "photoUrl": "",
      "userId": "06228375687141397502"
     },
     "user_tz": -540
    },
    "id": "v8PU5UcO7QOT",
    "outputId": "91834100-dc41-417d-bebe-654ffbf250a7"
   },
   "outputs": [
    {
     "data": {
      "text/plain": [
       "0    364\n",
       "1    166\n",
       "Name: T/F, dtype: int64"
      ]
     },
     "execution_count": 61,
     "metadata": {
      "tags": []
     },
     "output_type": "execute_result"
    }
   ],
   "source": [
    "data1[data1['user_verified']==True]['T/F'].value_counts()"
   ]
  },
  {
   "cell_type": "code",
   "execution_count": null,
   "metadata": {
    "colab": {
     "base_uri": "https://localhost:8080/"
    },
    "executionInfo": {
     "elapsed": 674,
     "status": "ok",
     "timestamp": 1613582061632,
     "user": {
      "displayName": "‍김지훈(학부학생/공과대학 토목·환경공학)",
      "photoUrl": "",
      "userId": "06228375687141397502"
     },
     "user_tz": -540
    },
    "id": "dvgJcRfY7Yu_",
    "outputId": "10d808b2-8f5b-46d3-9005-f3ca435cff94"
   },
   "outputs": [
    {
     "data": {
      "text/plain": [
       "0    3920\n",
       "1    1456\n",
       "Name: T/F, dtype: int64"
      ]
     },
     "execution_count": 62,
     "metadata": {
      "tags": []
     },
     "output_type": "execute_result"
    }
   ],
   "source": [
    "data1['T/F'].value_counts()"
   ]
  },
  {
   "cell_type": "code",
   "execution_count": 11,
   "metadata": {
    "colab": {
     "base_uri": "https://localhost:8080/"
    },
    "executionInfo": {
     "elapsed": 11865,
     "status": "ok",
     "timestamp": 1613648485119,
     "user": {
      "displayName": "‍김지훈(학부학생/공과대학 토목·환경공학)",
      "photoUrl": "",
      "userId": "06228375687141397502"
     },
     "user_tz": -540
    },
    "id": "yZNWQxepaQwE",
    "outputId": "150afb06-fe8a-4d03-a3c8-c269baa93ad2"
   },
   "outputs": [
    {
     "name": "stdout",
     "output_type": "stream",
     "text": [
      "Collecting sentence_transformers\n",
      "\u001b[?25l  Downloading https://files.pythonhosted.org/packages/6a/e2/84d6acfcee2d83164149778a33b6bdd1a74e1bcb59b2b2cd1b861359b339/sentence-transformers-0.4.1.2.tar.gz (64kB)\n",
      "\u001b[K     |████████████████████████████████| 71kB 4.8MB/s \n",
      "\u001b[?25hCollecting transformers<5.0.0,>=3.1.0\n",
      "\u001b[?25l  Downloading https://files.pythonhosted.org/packages/98/87/ef312eef26f5cecd8b17ae9654cdd8d1fae1eb6dbd87257d6d73c128a4d0/transformers-4.3.2-py3-none-any.whl (1.8MB)\n",
      "\u001b[K     |████████████████████████████████| 1.8MB 15.3MB/s \n",
      "\u001b[?25hRequirement already satisfied: tqdm in /usr/local/lib/python3.6/dist-packages (from sentence_transformers) (4.41.1)\n",
      "Requirement already satisfied: torch>=1.6.0 in /usr/local/lib/python3.6/dist-packages (from sentence_transformers) (1.7.0+cu101)\n",
      "Requirement already satisfied: numpy in /usr/local/lib/python3.6/dist-packages (from sentence_transformers) (1.19.5)\n",
      "Requirement already satisfied: scikit-learn in /usr/local/lib/python3.6/dist-packages (from sentence_transformers) (0.22.2.post1)\n",
      "Requirement already satisfied: scipy in /usr/local/lib/python3.6/dist-packages (from sentence_transformers) (1.4.1)\n",
      "Requirement already satisfied: nltk in /usr/local/lib/python3.6/dist-packages (from sentence_transformers) (3.2.5)\n",
      "Collecting sentencepiece\n",
      "\u001b[?25l  Downloading https://files.pythonhosted.org/packages/14/67/e42bd1181472c95c8cda79305df848264f2a7f62740995a46945d9797b67/sentencepiece-0.1.95-cp36-cp36m-manylinux2014_x86_64.whl (1.2MB)\n",
      "\u001b[K     |████████████████████████████████| 1.2MB 45.0MB/s \n",
      "\u001b[?25hRequirement already satisfied: regex!=2019.12.17 in /usr/local/lib/python3.6/dist-packages (from transformers<5.0.0,>=3.1.0->sentence_transformers) (2019.12.20)\n",
      "Requirement already satisfied: packaging in /usr/local/lib/python3.6/dist-packages (from transformers<5.0.0,>=3.1.0->sentence_transformers) (20.9)\n",
      "Requirement already satisfied: dataclasses; python_version < \"3.7\" in /usr/local/lib/python3.6/dist-packages (from transformers<5.0.0,>=3.1.0->sentence_transformers) (0.8)\n",
      "Requirement already satisfied: filelock in /usr/local/lib/python3.6/dist-packages (from transformers<5.0.0,>=3.1.0->sentence_transformers) (3.0.12)\n",
      "Requirement already satisfied: requests in /usr/local/lib/python3.6/dist-packages (from transformers<5.0.0,>=3.1.0->sentence_transformers) (2.23.0)\n",
      "Collecting tokenizers<0.11,>=0.10.1\n",
      "\u001b[?25l  Downloading https://files.pythonhosted.org/packages/fd/5b/44baae602e0a30bcc53fbdbc60bd940c15e143d252d658dfdefce736ece5/tokenizers-0.10.1-cp36-cp36m-manylinux2010_x86_64.whl (3.2MB)\n",
      "\u001b[K     |████████████████████████████████| 3.2MB 33.8MB/s \n",
      "\u001b[?25hCollecting sacremoses\n",
      "\u001b[?25l  Downloading https://files.pythonhosted.org/packages/7d/34/09d19aff26edcc8eb2a01bed8e98f13a1537005d31e95233fd48216eed10/sacremoses-0.0.43.tar.gz (883kB)\n",
      "\u001b[K     |████████████████████████████████| 890kB 61.4MB/s \n",
      "\u001b[?25hRequirement already satisfied: importlib-metadata; python_version < \"3.8\" in /usr/local/lib/python3.6/dist-packages (from transformers<5.0.0,>=3.1.0->sentence_transformers) (3.4.0)\n",
      "Requirement already satisfied: future in /usr/local/lib/python3.6/dist-packages (from torch>=1.6.0->sentence_transformers) (0.16.0)\n",
      "Requirement already satisfied: typing-extensions in /usr/local/lib/python3.6/dist-packages (from torch>=1.6.0->sentence_transformers) (3.7.4.3)\n",
      "Requirement already satisfied: joblib>=0.11 in /usr/local/lib/python3.6/dist-packages (from scikit-learn->sentence_transformers) (1.0.0)\n",
      "Requirement already satisfied: six in /usr/local/lib/python3.6/dist-packages (from nltk->sentence_transformers) (1.15.0)\n",
      "Requirement already satisfied: pyparsing>=2.0.2 in /usr/local/lib/python3.6/dist-packages (from packaging->transformers<5.0.0,>=3.1.0->sentence_transformers) (2.4.7)\n",
      "Requirement already satisfied: certifi>=2017.4.17 in /usr/local/lib/python3.6/dist-packages (from requests->transformers<5.0.0,>=3.1.0->sentence_transformers) (2020.12.5)\n",
      "Requirement already satisfied: urllib3!=1.25.0,!=1.25.1,<1.26,>=1.21.1 in /usr/local/lib/python3.6/dist-packages (from requests->transformers<5.0.0,>=3.1.0->sentence_transformers) (1.24.3)\n",
      "Requirement already satisfied: chardet<4,>=3.0.2 in /usr/local/lib/python3.6/dist-packages (from requests->transformers<5.0.0,>=3.1.0->sentence_transformers) (3.0.4)\n",
      "Requirement already satisfied: idna<3,>=2.5 in /usr/local/lib/python3.6/dist-packages (from requests->transformers<5.0.0,>=3.1.0->sentence_transformers) (2.10)\n",
      "Requirement already satisfied: click in /usr/local/lib/python3.6/dist-packages (from sacremoses->transformers<5.0.0,>=3.1.0->sentence_transformers) (7.1.2)\n",
      "Requirement already satisfied: zipp>=0.5 in /usr/local/lib/python3.6/dist-packages (from importlib-metadata; python_version < \"3.8\"->transformers<5.0.0,>=3.1.0->sentence_transformers) (3.4.0)\n",
      "Building wheels for collected packages: sentence-transformers, sacremoses\n",
      "  Building wheel for sentence-transformers (setup.py) ... \u001b[?25l\u001b[?25hdone\n",
      "  Created wheel for sentence-transformers: filename=sentence_transformers-0.4.1.2-cp36-none-any.whl size=103068 sha256=3278a15e39367902460f70c20dba05839e8295ae79e52d1f53c2f2aeb63592dc\n",
      "  Stored in directory: /root/.cache/pip/wheels/3d/33/d1/5703dd56199c09d4a1b41e0c07fb4e7765a84d787cbdc48ac3\n",
      "  Building wheel for sacremoses (setup.py) ... \u001b[?25l\u001b[?25hdone\n",
      "  Created wheel for sacremoses: filename=sacremoses-0.0.43-cp36-none-any.whl size=893261 sha256=757589715dc5f709c6c5cda9c6525e829c625a9f34c3867e79ea3f3e94668afd\n",
      "  Stored in directory: /root/.cache/pip/wheels/29/3c/fd/7ce5c3f0666dab31a50123635e6fb5e19ceb42ce38d4e58f45\n",
      "Successfully built sentence-transformers sacremoses\n",
      "Installing collected packages: tokenizers, sacremoses, transformers, sentencepiece, sentence-transformers\n",
      "Successfully installed sacremoses-0.0.43 sentence-transformers-0.4.1.2 sentencepiece-0.1.95 tokenizers-0.10.1 transformers-4.3.2\n",
      "/bin/bash: conda: command not found\n"
     ]
    }
   ],
   "source": [
    "#qna 모델 시작\n",
    "\n",
    "\n",
    "!pip install sentence_transformers\n",
    "#!conda install -c conda-forge hdbscan --y"
   ]
  },
  {
   "cell_type": "code",
   "execution_count": 13,
   "metadata": {
    "colab": {
     "base_uri": "https://localhost:8080/"
    },
    "executionInfo": {
     "elapsed": 83142,
     "status": "ok",
     "timestamp": 1613648564488,
     "user": {
      "displayName": "‍김지훈(학부학생/공과대학 토목·환경공학)",
      "photoUrl": "",
      "userId": "06228375687141397502"
     },
     "user_tz": -540
    },
    "id": "8sxGd6kqasN6",
    "outputId": "92a7ba38-bad3-4729-f2ec-06c79d897eac"
   },
   "outputs": [
    {
     "name": "stderr",
     "output_type": "stream",
     "text": [
      "100%|██████████| 1.24G/1.24G [00:29<00:00, 41.7MB/s]\n"
     ]
    }
   ],
   "source": [
    "#Pretrained model\n",
    "model=SentenceTransformer('bert-large-nli-mean-tokens')"
   ]
  },
  {
   "cell_type": "code",
   "execution_count": 22,
   "metadata": {
    "executionInfo": {
     "elapsed": 109886,
     "status": "ok",
     "timestamp": 1613650979044,
     "user": {
      "displayName": "‍김지훈(학부학생/공과대학 토목·환경공학)",
      "photoUrl": "",
      "userId": "06228375687141397502"
     },
     "user_tz": -540
    },
    "id": "r81PG2y_bIIM"
   },
   "outputs": [],
   "source": [
    "#시간 오래 걸리는 구간\n",
    "embeddings = model.encode(data2['text'][:100])"
   ]
  },
  {
   "cell_type": "code",
   "execution_count": 25,
   "metadata": {
    "colab": {
     "base_uri": "https://localhost:8080/"
    },
    "executionInfo": {
     "elapsed": 1116,
     "status": "ok",
     "timestamp": 1613651007668,
     "user": {
      "displayName": "‍김지훈(학부학생/공과대학 토목·환경공학)",
      "photoUrl": "",
      "userId": "06228375687141397502"
     },
     "user_tz": -540
    },
    "id": "vlZjjBedD6os",
    "outputId": "7e52a4df-d09b-4cf2-a311-106675e1f139"
   },
   "outputs": [
    {
     "data": {
      "text/plain": [
       "array([[-0.10010538,  0.02926506,  0.44302222, ..., -0.18447033,\n",
       "        -0.50598717, -0.47314343],\n",
       "       [ 0.730164  ,  0.4051566 ,  0.5638127 , ..., -0.11476069,\n",
       "        -0.0504196 , -0.92838436],\n",
       "       [ 0.33793208,  1.1142564 ,  0.9977523 , ...,  0.07713177,\n",
       "        -0.18138117, -0.647427  ],\n",
       "       ...,\n",
       "       [-0.23270132, -0.23903179,  0.6460346 , ...,  0.06199544,\n",
       "        -0.44638708, -0.5300999 ],\n",
       "       [ 0.17842406,  0.3366074 ,  0.9156    , ...,  0.2965598 ,\n",
       "        -0.22482885, -0.7727087 ],\n",
       "       [ 0.4038345 ,  0.04632109,  0.46474212, ..., -0.17061517,\n",
       "        -0.17846704, -0.6091786 ]], dtype=float32)"
      ]
     },
     "execution_count": 25,
     "metadata": {
      "tags": []
     },
     "output_type": "execute_result"
    }
   ],
   "source": [
    "#original_dataset['text_vec'] = embeddings  할 예정\n",
    "embeddings"
   ]
  },
  {
   "cell_type": "code",
   "execution_count": 36,
   "metadata": {
    "colab": {
     "base_uri": "https://localhost:8080/"
    },
    "executionInfo": {
     "elapsed": 41366,
     "status": "ok",
     "timestamp": 1613652390586,
     "user": {
      "displayName": "‍김지훈(학부학생/공과대학 토목·환경공학)",
      "photoUrl": "",
      "userId": "06228375687141397502"
     },
     "user_tz": -540
    },
    "id": "k1BvlgOPbNQo",
    "outputId": "637648f0-c2e0-4657-9539-39f50f1a23a7"
   },
   "outputs": [
    {
     "name": "stdout",
     "output_type": "stream",
     "text": [
      "Enter the query here :Is pfizer effective?\n"
     ]
    }
   ],
   "source": [
    "query=input('Enter the query here :')\n",
    "query_embedding = model.encode(query)"
   ]
  },
  {
   "cell_type": "code",
   "execution_count": 41,
   "metadata": {
    "colab": {
     "base_uri": "https://localhost:8080/"
    },
    "executionInfo": {
     "elapsed": 1110,
     "status": "ok",
     "timestamp": 1613652511420,
     "user": {
      "displayName": "‍김지훈(학부학생/공과대학 토목·환경공학)",
      "photoUrl": "",
      "userId": "06228375687141397502"
     },
     "user_tz": -540
    },
    "id": "8vK2tkxFbTn0",
    "outputId": "4546e7a9-70b9-4dd3-b448-1f73501b396a"
   },
   "outputs": [
    {
     "name": "stdout",
     "output_type": "stream",
     "text": [
      "\n",
      "\n",
      "======================\n",
      "\n",
      "\n",
      "Query: Is pfizer effective?\n",
      "\n",
      "Top 5 most similar sentences in corpus:\n",
      "Interesting and very detailed article showing up how a well tested #supplychain, with #sharedvisibility will help d… https://t.co/yt3vn67mVg (Score: 0.9041)\n",
      "No.1 of 2 done.\n",
      "\n",
      "#ThankYouNHS @NHSuk @MHRAgovuk and #PfizerBioNTech @pfizer for making the #CovidVaccine dream poss… https://t.co/3KvJ7UP432 (Score: 0.8955)\n",
      "@mirekR9 @sputnikvaccine @AstraZeneca it's the only one which doesn't have any side effects \n",
      "\n",
      "the #PfizerBioNTech a… https://t.co/IWELAATAmd (Score: 0.8904)\n",
      "How the #PfizerBioNTech Vaccine Works?\n",
      "This article made a detailed explanation.👇\n",
      "https://t.co/srgcHyBLk4\n",
      "\n",
      "#COVID19… https://t.co/t1nIsSQtTr (Score: 0.8612)\n",
      "Half way there #COVID19 #CovidVaccine #vaccination #Pfizervaccine #PfizerBioNTech https://t.co/fQOSDAGOWD (Score: 0.8346)\n"
     ]
    }
   ],
   "source": [
    "top_k=5\n",
    "cos_scores = util.pytorch_cos_sim(query_embedding, embeddings)[0]\n",
    "cos_scores = cos_scores.cpu()\n",
    "#위의 진위성 점수랑 합하는 부분\n",
    "cos_scores = cos_scores + torch.tensor(data1['score'][:100].values*0.3)\n",
    "#We use torch.topk to find the highest 5 scores\n",
    "top_results = torch.topk(cos_scores, k=top_k)\n",
    "\n",
    "print(\"\\n\\n======================\\n\\n\")\n",
    "print(\"Query:\", query)\n",
    "print(\"\\nTop 5 most similar sentences in corpus:\")\n",
    "\n",
    "for score, idx in zip(top_results[0], top_results[1]):\n",
    "    print(pfizer_original['text'].values[idx], \"(Score: %.4f)\" % (score))"
   ]
  },
  {
   "cell_type": "code",
   "execution_count": 42,
   "metadata": {
    "colab": {
     "base_uri": "https://localhost:8080/"
    },
    "executionInfo": {
     "elapsed": 801,
     "status": "ok",
     "timestamp": 1613652550303,
     "user": {
      "displayName": "‍김지훈(학부학생/공과대학 토목·환경공학)",
      "photoUrl": "",
      "userId": "06228375687141397502"
     },
     "user_tz": -540
    },
    "id": "xx1O7H7IL80H",
    "outputId": "c012675c-b906-4796-d82c-85d16dd70729"
   },
   "outputs": [
    {
     "data": {
      "text/plain": [
       "tensor([0.5756, 0.3726, 0.3270, 0.6823, 0.5966, 0.8341, 0.6560, 0.2539, 0.4957,\n",
       "        0.2843, 0.4950, 0.3973, 0.3390, 0.5527, 0.2512, 0.5253, 0.4014, 0.2098,\n",
       "        0.6090, 0.3663, 0.2979, 0.4279, 0.5253, 0.5148, 0.3684, 0.8955, 0.7148,\n",
       "        0.7900, 0.9041, 0.5316, 0.6923, 0.6337, 0.3649, 0.7065, 0.7838, 0.6387,\n",
       "        0.4700, 0.2852, 0.5203, 0.7202, 0.8904, 0.6094, 0.5156, 0.5253, 0.4015,\n",
       "        0.3945, 0.2811, 0.3740, 0.3655, 0.4250, 0.3527, 0.4264, 0.5675, 0.2286,\n",
       "        0.6827, 0.5913, 0.4796, 0.3602, 0.3370, 0.4331, 0.4733, 0.2696, 0.6097,\n",
       "        0.6709, 0.3447, 0.4284, 0.3429, 0.4050, 0.5382, 0.3365, 0.4780, 0.3340,\n",
       "        0.2932, 0.7955, 0.4024, 0.3582, 0.5535, 0.5152, 0.3217, 0.8612, 0.2954,\n",
       "        0.3250, 0.3328, 0.5588, 0.2616, 0.2276, 0.3386, 0.4012, 0.4322, 0.3329,\n",
       "        0.7811, 0.5082, 0.8346, 0.7631, 0.2881, 0.2548, 0.4917, 0.4763, 0.4971,\n",
       "        0.4117], dtype=torch.float64)"
      ]
     },
     "execution_count": 42,
     "metadata": {
      "tags": []
     },
     "output_type": "execute_result"
    }
   ],
   "source": [
    "cos_scores"
   ]
  },
  {
   "cell_type": "code",
   "execution_count": 43,
   "metadata": {
    "executionInfo": {
     "elapsed": 833,
     "status": "ok",
     "timestamp": 1613652678889,
     "user": {
      "displayName": "‍김지훈(학부학생/공과대학 토목·환경공학)",
      "photoUrl": "",
      "userId": "06228375687141397502"
     },
     "user_tz": -540
    },
    "id": "SGz2cYSehwzW"
   },
   "outputs": [],
   "source": [
    "#function\n",
    "\n",
    "def modeling(data1,data2):\n",
    "  testbud = data1.drop(['user_name'], axis=1)\n",
    "  score_model = KMeans(n_clusters=2).fit(testbud)\n",
    "  data1['score'] = score_model.labels_\n",
    "\n",
    "  query=input('Enter the query here :')\n",
    "  query_embedding = model.encode(query)\n",
    "\n",
    "  top_k=5\n",
    "  cos_scores = util.pytorch_cos_sim(query_embedding, embeddings)[0]\n",
    "  cos_scores = cos_scores.cpu()\n",
    "  #위의 진위성 점수랑 합하는 부분\n",
    "  cos_scores = cos_scores + torch.tensor(data1['score'][:100].values*0.3)\n",
    "  top_results = torch.topk(cos_scores, k=top_k)\n",
    "\n",
    "  print(\"\\n\\n======================\\n\\n\")\n",
    "  print(\"Query:\", query)\n",
    "  print(\"\\nTop 5 most similar sentences in corpus:\")\n",
    "\n",
    "  for score, idx in zip(top_results[0], top_results[1]):\n",
    "      print(pfizer_original['text'].values[idx], \"(Score: %.4f)\" % (score))"
   ]
  },
  {
   "cell_type": "code",
   "execution_count": 45,
   "metadata": {
    "colab": {
     "base_uri": "https://localhost:8080/"
    },
    "executionInfo": {
     "elapsed": 16576,
     "status": "ok",
     "timestamp": 1613652720943,
     "user": {
      "displayName": "‍김지훈(학부학생/공과대학 토목·환경공학)",
      "photoUrl": "",
      "userId": "06228375687141397502"
     },
     "user_tz": -540
    },
    "id": "-VyRSIJtdVjs",
    "outputId": "71a6a7de-b94b-40a9-bd46-66d5d8f07ee4"
   },
   "outputs": [
    {
     "name": "stdout",
     "output_type": "stream",
     "text": [
      "Enter the query here :How can i avoid covid?\n",
      "\n",
      "\n",
      "======================\n",
      "\n",
      "\n",
      "Query: How can i avoid covid?\n",
      "\n",
      "Top 5 most similar sentences in corpus:\n",
      "Explain to me again why we need a vaccine @BorisJohnson @MattHancock #whereareallthesickpeople #PfizerBioNTech… https://t.co/KxbSRoBEHq (Score: 0.8401)\n",
      "Surprised to learn those with autoimmune conditions or otherwise immunosuppressed are advised not to receive the… https://t.co/d5C5MbwsvB (Score: 0.8147)\n",
      "@FarAndWide @erinotoole @MichelleRempel That Rempel-Trudeau exchange had to be seen to be believed. (I saw it, too)… https://t.co/6FAgcNZ1bL (Score: 0.8127)\n",
      "@FarAndWide @erinotoole @MichelleRempel :: Screenshot #2 of that #QP exchange ::\n",
      "\n",
      "Unfortunately, Hansard does not c… https://t.co/e4IVaggplj (Score: 0.7554)\n",
      "Concerned about the side effects of the #PfizerBioNTech #COVID19 vaccine?  Check out my recap 👇🏼 https://t.co/P6yfRwS3Fq (Score: 0.7447)\n"
     ]
    }
   ],
   "source": [
    "modeling(data1, data2)"
   ]
  },
  {
   "cell_type": "code",
   "execution_count": null,
   "metadata": {
    "id": "zZ7atKcaMeMn"
   },
   "outputs": [],
   "source": []
  }
 ],
 "metadata": {
  "colab": {
   "authorship_tag": "ABX9TyPzdzjwzLGN0bCKGbg53kaM",
   "collapsed_sections": [],
   "mount_file_id": "1nYSYbeuXCmLVebQfNnnS031XZVyuW5M5",
   "name": "unsupervised_learning_QnA_modeling.ipynb",
   "provenance": []
  },
  "kernelspec": {
   "display_name": "Python 3",
   "language": "python",
   "name": "python3"
  },
  "language_info": {
   "codemirror_mode": {
    "name": "ipython",
    "version": 3
   },
   "file_extension": ".py",
   "mimetype": "text/x-python",
   "name": "python",
   "nbconvert_exporter": "python",
   "pygments_lexer": "ipython3",
   "version": "3.8.3"
  }
 },
 "nbformat": 4,
 "nbformat_minor": 1
}
