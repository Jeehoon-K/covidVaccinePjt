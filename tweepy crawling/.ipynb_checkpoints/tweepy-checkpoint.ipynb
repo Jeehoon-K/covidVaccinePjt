{
 "cells": [
  {
   "cell_type": "code",
   "execution_count": 71,
   "id": "polar-darkness",
   "metadata": {},
   "outputs": [],
   "source": [
    "import tweepy\n",
    "import pandas as pd\n",
    "import numpy as np\n",
    "import datetime\n",
    "from twitter_authentication import API_KEY, API_SECRET, ACCESS_TOKEN, ACCESS_TOKEN_SECRET\n",
    "pd.set_option(\"display.max_rows\",None)"
   ]
  },
  {
   "cell_type": "code",
   "execution_count": 47,
   "id": "parliamentary-martin",
   "metadata": {},
   "outputs": [
    {
     "name": "stdout",
     "output_type": "stream",
     "text": [
      "Requirement already satisfied: tweepy in /opt/anaconda3/lib/python3.8/site-packages (3.10.0)\n",
      "Requirement already satisfied: six>=1.10.0 in /opt/anaconda3/lib/python3.8/site-packages (from tweepy) (1.15.0)\n",
      "Requirement already satisfied: requests[socks]>=2.11.1 in /opt/anaconda3/lib/python3.8/site-packages (from tweepy) (2.25.1)\n",
      "Requirement already satisfied: requests-oauthlib>=0.7.0 in /opt/anaconda3/lib/python3.8/site-packages (from tweepy) (1.3.0)\n",
      "Requirement already satisfied: oauthlib>=3.0.0 in /opt/anaconda3/lib/python3.8/site-packages (from requests-oauthlib>=0.7.0->tweepy) (3.1.0)\n",
      "Requirement already satisfied: chardet<5,>=3.0.2 in /opt/anaconda3/lib/python3.8/site-packages (from requests[socks]>=2.11.1->tweepy) (4.0.0)\n",
      "Requirement already satisfied: urllib3<1.27,>=1.21.1 in /opt/anaconda3/lib/python3.8/site-packages (from requests[socks]>=2.11.1->tweepy) (1.26.3)\n",
      "Requirement already satisfied: certifi>=2017.4.17 in /opt/anaconda3/lib/python3.8/site-packages (from requests[socks]>=2.11.1->tweepy) (2020.12.5)\n",
      "Requirement already satisfied: idna<3,>=2.5 in /opt/anaconda3/lib/python3.8/site-packages (from requests[socks]>=2.11.1->tweepy) (2.10)\n",
      "Requirement already satisfied: PySocks!=1.5.7,>=1.5.6 in /opt/anaconda3/lib/python3.8/site-packages (from requests[socks]>=2.11.1->tweepy) (1.7.1)\n"
     ]
    }
   ],
   "source": [
    "!pip install tweepy"
   ]
  },
  {
   "cell_type": "code",
   "execution_count": 48,
   "id": "removable-benchmark",
   "metadata": {},
   "outputs": [],
   "source": [
    "auth = tweepy.OAuthHandler(consumer_key, consumer_secret)\n",
    "\n",
    "auth.set_access_token(access_token, access_token_secret)\n",
    "\n",
    "api = tweepy.API(auth,wait_on_rate_limit=True)"
   ]
  },
  {
   "cell_type": "code",
   "execution_count": 49,
   "id": "endless-yesterday",
   "metadata": {},
   "outputs": [],
   "source": [
    "keyword = \"moderna\"\n",
    "sample=[]\n",
    "result = []"
   ]
  },
  {
   "cell_type": "code",
   "execution_count": 61,
   "id": "manual-yahoo",
   "metadata": {},
   "outputs": [
    {
     "data": {
      "text/plain": [
       "4951"
      ]
     },
     "execution_count": 61,
     "metadata": {},
     "output_type": "execute_result"
    }
   ],
   "source": [
    "count"
   ]
  },
  {
   "cell_type": "code",
   "execution_count": 95,
   "id": "under-trustee",
   "metadata": {},
   "outputs": [
    {
     "name": "stdout",
     "output_type": "stream",
     "text": [
      "we have crawled  0  tweets.\n",
      "no tweets!\n"
     ]
    }
   ],
   "source": [
    "result = []\n",
    "max_tweets = 5000\n",
    "searched_tweets = []\n",
    "last_id = -1\n",
    "\n",
    "searched_tweets = []\n",
    "last_id = -1\n",
    "while len(searched_tweets) < max_tweets:\n",
    "    count = max_tweets - len(searched_tweets)\n",
    "    print(\"we have crawled \",len(searched_tweets),\" tweets.\")\n",
    "    try:\n",
    "        new_tweets = api.search(q=\"moderna\", count=count, max_id=str(last_id - 1))\n",
    "        if not new_tweets:\n",
    "            print(\"no tweets!\")\n",
    "            break\n",
    "        print(\"we have tweets!\")\n",
    "        for tweet in new_tweets:\n",
    "            if \"RT\" not in tweet.text:\n",
    "                searched_tweets.append([tweet.id, tweet.user.name, tweet.user.location, tweet.user.description, tweet.user.created_at,\n",
    "                               tweet.user.followers_count,\n",
    "                               tweet.user.friends_count,\n",
    "                               tweet.user.favourites_count,\n",
    "                               tweet.user.verified,\n",
    "                               tweet.created_at,\n",
    "                               tweet.text,\n",
    "                               tweet.entities[\"hashtags\"],\n",
    "                               tweet.source,\n",
    "                               tweet.retweet_count,\n",
    "                               tweet.favorite_count,\n",
    "                               tweet.retweeted\n",
    "                              ])\n",
    "        last_id = new_tweets[-1].id\n",
    "    except tweepy.TweepError as e:\n",
    "        # depending on TweepError.code, one may want to retry or wait\n",
    "        # to keep things simple, we will give up on an error\n",
    "        break"
   ]
  },
  {
   "cell_type": "code",
   "execution_count": 90,
   "id": "undefined-casino",
   "metadata": {},
   "outputs": [
    {
     "data": {
      "text/plain": [
       "[[1360588808476098561,\n",
       "  'Alejandro Macias',\n",
       "  'Leon, Mexico',\n",
       "  'Medical doctor. Former 2009 Pandemic Influenza Tzar in Mexico. National Research System (SNI) Level 3. Opinions, mine.',\n",
       "  datetime.datetime(2011, 6, 13, 6, 6, 2),\n",
       "  264507,\n",
       "  98,\n",
       "  2563,\n",
       "  True,\n",
       "  datetime.datetime(2021, 2, 13, 13, 57, 5),\n",
       "  '“La vacuna de Moderna no es una vacuna sino una terapia genética”.\\nIdeas que se diseminan a pesar de ser tan absurd… https://t.co/E3CfnXR6Qk',\n",
       "  [],\n",
       "  'Twitter for iPhone',\n",
       "  743,\n",
       "  3491,\n",
       "  False],\n",
       " [1360423871447511040,\n",
       "  'Alejandro Macias',\n",
       "  'Leon, Mexico',\n",
       "  'Medical doctor. Former 2009 Pandemic Influenza Tzar in Mexico. National Research System (SNI) Level 3. Opinions, mine.',\n",
       "  datetime.datetime(2011, 6, 13, 6, 6, 2),\n",
       "  264507,\n",
       "  98,\n",
       "  2563,\n",
       "  True,\n",
       "  datetime.datetime(2021, 2, 13, 3, 1, 41),\n",
       "  'Las vacunas covid de ARNm se asocian con anafilaxia, o reacción alérgica grave, aunque es poco común (~1/200 mil ca… https://t.co/wEr2hmUgyF',\n",
       "  [],\n",
       "  'Twitter for iPhone',\n",
       "  726,\n",
       "  2805,\n",
       "  False],\n",
       " [1360268317081145347,\n",
       "  'Rosemary Barton',\n",
       "  'Ottawa ',\n",
       "  'Chief Political Correspondent. Host:  Rosemary Barton Live, Party Lines, At Issue. Freckled. Loves all the politics. Heavy on the coffee and the high heels.',\n",
       "  datetime.datetime(2009, 9, 17, 16, 25, 13),\n",
       "  236973,\n",
       "  3679,\n",
       "  12919,\n",
       "  True,\n",
       "  datetime.datetime(2021, 2, 12, 16, 43, 34),\n",
       "  'PM says we will have 84 million doses available by September. And that is just with Pfizer and Moderna. Other appro… https://t.co/sP9S3rAQhk',\n",
       "  [],\n",
       "  'TweetDeck',\n",
       "  317,\n",
       "  1708,\n",
       "  False],\n",
       " [1360497791479533574,\n",
       "  'Eric Feigl-Ding',\n",
       "  'Washington DC & Virginia',\n",
       "  'Epidemiologist & Health Economist. Senior Fellow, FAS. Health Policy. Fmr 16 yrs @Harvard. RoomRater 10/10. COVID19 updates since Jan’20',\n",
       "  datetime.datetime(2009, 1, 10, 11, 1, 33),\n",
       "  433000,\n",
       "  7906,\n",
       "  155508,\n",
       "  True,\n",
       "  datetime.datetime(2021, 2, 13, 7, 55, 24),\n",
       "  'We need to call Moderna vaccine by the true proper name of “NIH-Moderna vaccine”. It was mainly developed at Fauci’… https://t.co/gZWLBfCyGK',\n",
       "  [],\n",
       "  'Twitter for iPhone',\n",
       "  190,\n",
       "  550,\n",
       "  False],\n",
       " [1360539091255889921,\n",
       "  'Roberto Burioni',\n",
       "  'Milano, Lombardia',\n",
       "  'Medico, Professore di Virologia all’Università San Raffaele, Milano - Direttore scientifico Medical Facts',\n",
       "  datetime.datetime(2016, 5, 18, 6, 17, 50),\n",
       "  276273,\n",
       "  1298,\n",
       "  29551,\n",
       "  True,\n",
       "  datetime.datetime(2021, 2, 13, 10, 39, 31),\n",
       "  \"I vaccini a mRNA sono sicuri? Negli USA dopo 9'943'247 dosi di vaccino Pfizer e 7'581'429 dosi di Moderna si sono v… https://t.co/3YH9wUwCJB\",\n",
       "  [],\n",
       "  'Twitter Web App',\n",
       "  491,\n",
       "  2135,\n",
       "  False]]"
      ]
     },
     "execution_count": 90,
     "metadata": {},
     "output_type": "execute_result"
    }
   ],
   "source": [
    "searched_tweets[:5]"
   ]
  },
  {
   "cell_type": "code",
   "execution_count": 80,
   "id": "attached-mexico",
   "metadata": {},
   "outputs": [
    {
     "data": {
      "text/plain": [
       "[[1360589401114480656,\n",
       "  \"Jamie O'Neil\",\n",
       "  '',\n",
       "  'LOVE history, politics, travelling around this beautiful world, family, friends, and my job. I am a CANUCK who wants Trump out!',\n",
       "  datetime.datetime(2019, 7, 5, 10, 27, 2),\n",
       "  563,\n",
       "  700,\n",
       "  81564,\n",
       "  False,\n",
       "  datetime.datetime(2021, 2, 13, 13, 59, 26),\n",
       "  'Ottawa has negotiated more Moderna COVID-19 vaccine doses and faster delivery: Trudeau /via @globeandmail https://t.co/dPUP5glRlj',\n",
       "  [],\n",
       "  'Twitter Web App',\n",
       "  0,\n",
       "  0,\n",
       "  False],\n",
       " [1360589388787294208,\n",
       "  'wokabaut meri',\n",
       "  'Oz & Worldwide Walkabout',\n",
       "  'Happiest with a backpack in the wilderness Love hills and the odd trip on 2 wheels Longterm Mac tragic Artist Designer Biodynamic Gardener Dog Trainer Poet',\n",
       "  datetime.datetime(2011, 5, 31, 6, 20, 20),\n",
       "  581,\n",
       "  856,\n",
       "  134186,\n",
       "  False,\n",
       "  datetime.datetime(2021, 2, 13, 13, 59, 23),\n",
       "  'Yet in Poland, Spain and Italy, some unions complained that their members are slated to receive the AstraZeneca vac… https://t.co/3jCCWMuWPt',\n",
       "  [],\n",
       "  'Twitter for iPhone',\n",
       "  0,\n",
       "  0,\n",
       "  False],\n",
       " [1360589385582870530,\n",
       "  'Lindsay Marie Watson',\n",
       "  'Southern California',\n",
       "  'I have no more delicate phrasing of thoughts & opinions because of a two time impeached, fat fake orange president NO DMs. I will block you.',\n",
       "  datetime.datetime(2009, 4, 26, 20, 40, 20),\n",
       "  4012,\n",
       "  3508,\n",
       "  87667,\n",
       "  False,\n",
       "  datetime.datetime(2021, 2, 13, 13, 59, 22),\n",
       "  '@BetteMidler I got the Moderna. Arm was seriously sore screaming for 40 hours. Tolerable today.',\n",
       "  [],\n",
       "  'Twitter for iPhone',\n",
       "  2,\n",
       "  2,\n",
       "  False],\n",
       " [1360589351646814208,\n",
       "  'Arlene Shumaker',\n",
       "  'United States',\n",
       "  'United We Stand M4All For-Profit Health Care is morally abhorrent',\n",
       "  datetime.datetime(2013, 7, 17, 21, 1, 14),\n",
       "  689,\n",
       "  889,\n",
       "  77070,\n",
       "  False,\n",
       "  datetime.datetime(2021, 2, 13, 13, 59, 14),\n",
       "  '@aslavitt46 @ASlavitt My daughter in law is sick as a dog today after getting her first Moderna shot. I doubt she’ll get the second shot.',\n",
       "  [],\n",
       "  'Twitter for iPhone',\n",
       "  0,\n",
       "  2,\n",
       "  False],\n",
       " [1360589268087930881,\n",
       "  'De Telegraaf',\n",
       "  'Amsterdam',\n",
       "  'Spraakmakend de grootste! Elke dag het belangrijkste nieuws van De Telegraaf. Tip ons via WhatsApp: 06-13650952.',\n",
       "  datetime.datetime(2007, 3, 29, 22, 29, 18),\n",
       "  644524,\n",
       "  754,\n",
       "  679,\n",
       "  True,\n",
       "  datetime.datetime(2021, 2, 13, 13, 58, 54),\n",
       "  'Moderna mag de hoeveelheid coronavaccin per flesje met maximaal 40 procent verhogen. https://t.co/ToJlv9d0Yu',\n",
       "  [],\n",
       "  'Twitter Web App',\n",
       "  3,\n",
       "  3,\n",
       "  False]]"
      ]
     },
     "execution_count": 80,
     "metadata": {},
     "output_type": "execute_result"
    }
   ],
   "source": [
    "searched_tweets[-5:]"
   ]
  },
  {
   "cell_type": "code",
   "execution_count": 82,
   "id": "intense-halifax",
   "metadata": {},
   "outputs": [
    {
     "name": "stdout",
     "output_type": "stream",
     "text": [
      "5000\n"
     ]
    }
   ],
   "source": [
    "print(len(searched_tweets))"
   ]
  },
  {
   "cell_type": "code",
   "execution_count": 83,
   "id": "prompt-recording",
   "metadata": {},
   "outputs": [],
   "source": [
    "df = pd.DataFrame(data = searched_tweets, columns = [\"id\"\n",
    ",\"user_name\"\n",
    ",\"user_location\",\n",
    "\"user_description\",\n",
    "\"user_created\",\n",
    "\"user_followers\",\n",
    "\"user_friends\",\n",
    "\"user_favourites\",\n",
    "\"user_verified\",\n",
    "\"date\",\n",
    "\"text\",\n",
    "\"hashtags\",\n",
    "\"source\",\n",
    "\"retweets\",\n",
    "\"favorites\",\n",
    "\"is_retweet\"])"
   ]
  },
  {
   "cell_type": "code",
   "execution_count": 84,
   "id": "configured-worship",
   "metadata": {},
   "outputs": [],
   "source": [
    "def handleHT(hashtags):\n",
    "    temp = []\n",
    "    if len(hashtags)==0:\n",
    "        hashtags=np.nan\n",
    "    else:\n",
    "        for tag in hashtags:\n",
    "            temp.append(tag[\"text\"])\n",
    "        hashtags = temp\n",
    "    return hashtags"
   ]
  },
  {
   "cell_type": "code",
   "execution_count": 85,
   "id": "understood-unemployment",
   "metadata": {},
   "outputs": [],
   "source": [
    "df[\"hashtags\"] = df[\"hashtags\"].apply(lambda x: handleHT(x))"
   ]
  },
  {
   "cell_type": "code",
   "execution_count": 86,
   "id": "disturbed-narrow",
   "metadata": {},
   "outputs": [],
   "source": [
    "df.drop_duplicates(subset=[\"user_name\",\"text\"],inplace=True,keep=\"last\")"
   ]
  },
  {
   "cell_type": "code",
   "execution_count": 87,
   "id": "fatty-berlin",
   "metadata": {},
   "outputs": [
    {
     "data": {
      "text/plain": [
       "5000"
      ]
     },
     "execution_count": 87,
     "metadata": {},
     "output_type": "execute_result"
    }
   ],
   "source": [
    "len(df)"
   ]
  },
  {
   "cell_type": "code",
   "execution_count": 88,
   "id": "equal-saying",
   "metadata": {},
   "outputs": [],
   "source": [
    "df.to_csv(\"moderna_tweets_0214.csv\")"
   ]
  },
  {
   "cell_type": "code",
   "execution_count": null,
   "id": "conceptual-sharp",
   "metadata": {},
   "outputs": [],
   "source": []
  }
 ],
 "metadata": {
  "kernelspec": {
   "display_name": "Python 3",
   "language": "python",
   "name": "python3"
  },
  "language_info": {
   "codemirror_mode": {
    "name": "ipython",
    "version": 3
   },
   "file_extension": ".py",
   "mimetype": "text/x-python",
   "name": "python",
   "nbconvert_exporter": "python",
   "pygments_lexer": "ipython3",
   "version": "3.8.5"
  }
 },
 "nbformat": 4,
 "nbformat_minor": 5
}
