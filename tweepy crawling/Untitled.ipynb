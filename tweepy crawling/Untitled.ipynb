{
 "cells": [
  {
   "cell_type": "code",
   "execution_count": 11,
   "id": "spanish-christopher",
   "metadata": {},
   "outputs": [],
   "source": [
    "import pandas as pd\n",
    "import datetime\n",
    "import numpy as np\n",
    "import plotly.express as px\n",
    "import chart_studio\n",
    "import chart_studio.plotly as py\n",
    "\n",
    "def map():\n",
    "\n",
    "    df = pd.read_csv(\"https://raw.githubusercontent.com/owid/covid-19-data/master/public/data/vaccinations/vaccinations.csv\", \n",
    "                    usecols = [\"location\",\"iso_code\",\"date\",\"total_vaccinations\"])\n",
    "\n",
    "    df = df[df[\"location\"] != \"World\"]\n",
    "\n",
    "    df.fillna(method=\"ffill\",inplace=True)\n",
    "\n",
    "    df.reset_index(drop=True,inplace=True)\n",
    "\n",
    "    df[\"date\"] = df[\"date\"].apply(lambda x: datetime.datetime.strptime(x,\"%Y-%m-%d\"))\n",
    "\n",
    "    min_date = df[\"date\"].min()\n",
    "    max_date = df[\"date\"].max()\n",
    "\n",
    "    country_list = list(dict.fromkeys(zip(df[\"location\"],df[\"iso_code\"])))\n",
    "\n",
    "    for i in country_list:\n",
    "\n",
    "        date_temp = min_date\n",
    "        country_df = df[df[\"location\"]==i[0]]\n",
    "        country_min = country_df[\"date\"].min()\n",
    "        country_max = country_df[\"date\"].max()\n",
    "        vaccine_max = int(country_df[df[\"date\"]==country_max][\"total_vaccinations\"])\n",
    "\n",
    "        while date_temp <= max_date:\n",
    "            if date_temp < country_min:\n",
    "                df.loc[len(df)] = [i[0],i[1],date_temp,0]\n",
    "            elif date_temp > country_max:\n",
    "                df.loc[len(df)] = [i[0],i[1],date_temp, vaccine_max]\n",
    "            else:\n",
    "                if date_temp not in country_df[\"date\"].unique():\n",
    "                    df.loc[len(df)] = [i[0],i[1],date_temp, np.nan]\n",
    "\n",
    "            date_temp += datetime.timedelta(days=1)\n",
    "\n",
    "    df.fillna(method=\"ffill\",inplace=True)\n",
    "    df.reset_index(drop=True,inplace=True)\n",
    "\n",
    "    df = df.sort_values(by=[\"location\",\"date\"]).reset_index(drop=True)\n",
    "\n",
    "    df[\"date\"] = df[\"date\"].apply(lambda x: str(x)[:10])\n",
    "\n",
    "\n",
    "    fig = px.scatter_geo(df, locations=\"iso_code\", locationmode=\"ISO-3\",\n",
    "                         size=\"total_vaccinations\", \n",
    "                         hover_name=\"location\",\n",
    "                         animation_frame=\"date\",\n",
    "                         animation_group=\"location\",\n",
    "                         range_color=[833471,833471],)\n",
    "    fig.layout.updatemenus[0].buttons[0].args[1]['frame']['duration'] = 10\n",
    "    fig.layout.updatemenus[0].buttons[0].args[1]['transition']['duration'] = 10\n",
    "    \n",
    "    username = 'sue-bin' # your username\n",
    "    api_key = 'A9iEh0PmfbcEmki2cptp' # your api key - go to profile > settings > regenerate key\n",
    "    chart_studio.tools.set_credentials_file(username=username, api_key=api_key)\n",
    "\n",
    "    a = py.plot(fig, filename = 'map', auto_open=False)\n",
    "    \n",
    "    return a"
   ]
  },
  {
   "cell_type": "code",
   "execution_count": 12,
   "id": "assured-captain",
   "metadata": {},
   "outputs": [
    {
     "name": "stderr",
     "output_type": "stream",
     "text": [
      "<ipython-input-11-c314fe5f748e>:32: UserWarning:\n",
      "\n",
      "Boolean Series key will be reindexed to match DataFrame index.\n",
      "\n"
     ]
    },
    {
     "name": "stdout",
     "output_type": "stream",
     "text": [
      "https://plotly.com/~sue-bin/48/\n"
     ]
    }
   ],
   "source": [
    "print(map())"
   ]
  },
  {
   "cell_type": "code",
   "execution_count": null,
   "id": "express-template",
   "metadata": {},
   "outputs": [],
   "source": []
  }
 ],
 "metadata": {
  "kernelspec": {
   "display_name": "Python 3",
   "language": "python",
   "name": "python3"
  },
  "language_info": {
   "codemirror_mode": {
    "name": "ipython",
    "version": 3
   },
   "file_extension": ".py",
   "mimetype": "text/x-python",
   "name": "python",
   "nbconvert_exporter": "python",
   "pygments_lexer": "ipython3",
   "version": "3.8.5"
  }
 },
 "nbformat": 4,
 "nbformat_minor": 5
}
